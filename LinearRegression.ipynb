{
 "cells": [
  {
   "cell_type": "code",
   "execution_count": 86,
   "id": "a214aaad",
   "metadata": {},
   "outputs": [],
   "source": [
    "import pandas as pd\n",
    "import matplotlib.pyplot as plt \n",
    "import numpy as np\n",
    "import math\n",
    "df = pd.read_csv('pgdata.csv')\n",
    "df[\"eddm_lagged\"] = df[\"eddms\"].shift(-1)\n",
    "df = df.dropna(subset=['eddm_lagged'])"
   ]
  },
  {
   "cell_type": "code",
   "execution_count": 87,
   "id": "1a55d971",
   "metadata": {
    "scrolled": true
   },
   "outputs": [],
   "source": [
    "#Convert into numpy arrays \n",
    "X_train = df['eddm_lagged'].to_numpy()\n",
    "y = df['sales'].to_numpy()"
   ]
  },
  {
   "cell_type": "code",
   "execution_count": 88,
   "id": "9d63469c",
   "metadata": {},
   "outputs": [],
   "source": [
    "#Normalize the data (Prevent huge gradient, speed, more Interpretable)\n",
    "#for X\n",
    "X_mean =  X_train.mean()\n",
    "X_std = X_train.std()\n",
    "X_train = (X_train - X_mean) / X_std\n",
    "\n",
    "#for y\n",
    "y_mean = y.mean()\n",
    "y_std = y.std()\n",
    "y = (y - y_mean) / y_std"
   ]
  },
  {
   "cell_type": "code",
   "execution_count": 89,
   "id": "04be6f7a",
   "metadata": {},
   "outputs": [
    {
     "data": {
      "text/plain": [
       "<matplotlib.collections.PathCollection at 0x7fbca0d01940>"
      ]
     },
     "execution_count": 89,
     "metadata": {},
     "output_type": "execute_result"
    },
    {
     "data": {
      "image/png": "[encoded data removed]",
      "text/plain": [
       "<Figure size 720x432 with 1 Axes>"
      ]
     },
     "metadata": {
      "needs_background": "light"
     },
     "output_type": "display_data"
    }
   ],
   "source": [
    "plt.figure(figsize=(10,6))\n",
    "plt.scatter(X_train, y)\n"
   ]
  },
  {
   "cell_type": "code",
   "execution_count": 90,
   "id": "fccc95c5",
   "metadata": {},
   "outputs": [],
   "source": [
    "#Calculate the cost function:\n",
    "def calculate_cost(w, b, x, y):\n",
    "    \"\"\"\n",
    "    Calculates the MSE cost for univariate linear regression.\n",
    "    Parameters:\n",
    "    w : float, Weight (slope) of the linear model.\n",
    "    b : float, Bias (intercept) of the linear model.\n",
    "    x : ndarray, Input feature array (e.g., normalized EDDMS values).\n",
    "    y : ndarray, Target output array (e.g., normalized sales values).\n",
    "    Returns:\n",
    "    total_cost : float\n",
    "        The average cost computed as (1/2m) * sum((f_wb - y)^2), \n",
    "        where f_wb = w * x + b for each training example.\n",
    "    \"\"\"\n",
    "    m = len(x)\n",
    "    total_cost = 0\n",
    "    for i in range(m):\n",
    "        f_wb = w * X_train[i] + b # the prediction of the model\n",
    "        err = (f_wb - y[i]) ** 2 #Squared Error \n",
    "        total_cost += err\n",
    "    return total_cost / (2 * m)"
   ]
  },
  {
   "cell_type": "code",
   "execution_count": 91,
   "id": "cbf79778",
   "metadata": {},
   "outputs": [],
   "source": [
    "#compute the gradients for gradient descent \n",
    "def compute_gradient(x, y, w, b):\n",
    "    \"\"\"\n",
    "    Calulcates the derivative of the cost function for the parameters.\n",
    "    Parameters:\n",
    "    x : ndarray, Input feature array (e.g., normalized EDDMS values).\n",
    "    y : ndarray, Target output array (e.g., normalized sales values).\n",
    "    w : float, Weight (slope) of the linear model.\n",
    "    b : float, Bias (intercept) of the linear model.\n",
    "    Returns:\n",
    "    dj_dw: float, partial derivative of the cost function w.r.t w\n",
    "    dj_db: float, partial derivative of the cost function w.r.t b\n",
    "    \"\"\"\n",
    "    dj_dw = 0\n",
    "    dj_db = 0 \n",
    "    \n",
    "    m = len(x)\n",
    "    \n",
    "    for i in range(m):\n",
    "        f_wb = x[i] * w + b\n",
    "        err = f_wb - y[i]\n",
    "        dj_db += err\n",
    "        dj_dw += (err * x[i])\n",
    "        \n",
    "    return (dj_dw / m) , (dj_db / m)"
   ]
  },
  {
   "cell_type": "code",
   "execution_count": 92,
   "id": "57b6aa3f",
   "metadata": {},
   "outputs": [],
   "source": [
    "def gradient_descent(x, y, w_in, b_in, alpha, num_iters, calculate_cost, compute_gradient):\n",
    "    \"\"\"\n",
    "    Performs Gradient Descent over the data to fit the w,b by taking num_iters iteration \n",
    "    using the learning rate alpha. \n",
    "    Parameters:\n",
    "    x : ndarray, Input feature array (e.g., normalized EDDMS values).\n",
    "    y : ndarray, Target output array (e.g., normalized sales values).\n",
    "    w_in: float, The initial w we provide for gradient descent \n",
    "    b_in: float, The inital b we provide for gradient descent \n",
    "    alph: float, learning rate \n",
    "    num_iters: number of iterations to do the gradient descent \n",
    "    cost_function: function to produce the total cost with the parameters \n",
    "    compute_gradient: function to compute the partial derivatives of the cost function \n",
    "    Returns:\n",
    "    w: float, The parameter w after performing gradient descent \n",
    "    b: float, The parameter b after performing gradient descent \n",
    "    J_history: The history of change in the cost function (for graphing)\n",
    "    w_history: The history of change in the perameter w (for graphing)\n",
    "    b_history: The history of change in the parameter b (for graphing)\n",
    "    \"\"\"\n",
    "    w = w_in\n",
    "    b = b_in\n",
    "    J_history = []\n",
    "    w_history = []\n",
    "    b_history = []\n",
    "    \n",
    "    for i in range(num_iters):\n",
    "        dj_dw, dj_db = compute_gradient(x,y,w,b)\n",
    "        \n",
    "        w = w - (alpha * dj_dw)\n",
    "        b = b - (alpha * dj_db)\n",
    "        # Save cost J at each iteration\n",
    "        J_history.append(calculate_cost(w,b,x,y))\n",
    "        w_history.append(w)\n",
    "        b_history.append(b)\n",
    "    return w, b, J_history, w_history, b_history"
   ]
  },
  {
   "cell_type": "code",
   "execution_count": 93,
   "id": "21d028cd",
   "metadata": {},
   "outputs": [
    {
     "data": {
      "text/plain": [
       "[<matplotlib.lines.Line2D at 0x7fbca1083280>]"
      ]
     },
     "execution_count": 93,
     "metadata": {},
     "output_type": "execute_result"
    },
    {
     "data": {
      "image/png": "[encoded data removed]",
      "text/plain": [
       "<Figure size 432x288 with 1 Axes>"
      ]
     },
     "metadata": {
      "needs_background": "light"
     },
     "output_type": "display_data"
    }
   ],
   "source": [
    "w_init = 0\n",
    "b_init = 0\n",
    "iterations = 200\n",
    "tmp_alpha = 3.0e-2\n",
    "\n",
    "w,b,J_history, w_history, b_history = gradient_descent(X_train, y, w_init, b_init, tmp_alpha, iterations, calculate_cost, compute_gradient)\n",
    "plt.plot(J_history)"
   ]
  },
  {
   "cell_type": "code",
   "execution_count": 94,
   "id": "58a0abb8",
   "metadata": {},
   "outputs": [],
   "source": [
    "def test_accuracy(x, y, w, b):\n",
    "    \"\"\"\n",
    "    Tests the Acruaccy of the model with a ten percent error margin on trying to predict \n",
    "    the training data.\n",
    "    Parameters:\n",
    "    x : ndarray, Input feature array (e.g., normalized EDDMS values).\n",
    "    y : ndarray, Target output array (e.g., normalized sales values).\n",
    "    w: float, The parameter w after performing gradient descent \n",
    "    b: float, The parameter b after performing gradient descent \n",
    "    Returns:\n",
    "    accuracy: float, percentage of the numbers guessed correclty out of all the training \n",
    "    examples. \n",
    "    \"\"\"\n",
    "    m = len(x)\n",
    "    correct_results = 0\n",
    "    for i in range(m):\n",
    "        prediction_norm = w * x[i] + b\n",
    "\n",
    "        prediction = prediction_norm * y_std + y_mean\n",
    "        actual = y[i] * y_std + y_mean\n",
    "\n",
    "        error = actual * 0.10\n",
    "        \n",
    "        if actual - error <= prediction <= actual + error:\n",
    "            correct_results += 1\n",
    "    accuracy = (correct_results / m) * 100\n",
    "    return accuracy"
   ]
  },
  {
   "cell_type": "code",
   "execution_count": 95,
   "id": "2dd7ce10",
   "metadata": {},
   "outputs": [],
   "source": [
    "def predict(eddms, w, b):\n",
    "    \"\"\"\n",
    "    Predicts weekly sales from the eddms in dollar amount. \n",
    "    Parameters:\n",
    "    eddms: float, the dollar amount of weekly eddm spend\n",
    "    w: float, The parameter w after performing gradient descent \n",
    "    b: float, The parameter b after performing gradient descent \n",
    "    Returns:\n",
    "    unorm_prediction: float, returns the unormalized results from the amount of eddms spent. \n",
    "    \"\"\"\n",
    "    normalized_eddms = (eddms - X_mean) / X_std #normalize the eddm amount in dollars \n",
    "    norm_prediction = (normalized_eddms * w) + b # predict a value with w and b \n",
    "    unnorm_predcition =  norm_prediction * y_std + y_mean\n",
    "    return unnorm_predcition"
   ]
  },
  {
   "cell_type": "code",
   "execution_count": 123,
   "id": "2f26b491",
   "metadata": {},
   "outputs": [
    {
     "data": {
      "image/png": "[encoded data removed]",
      "text/plain": [
       "<Figure size 432x288 with 1 Axes>"
      ]
     },
     "metadata": {
      "needs_background": "light"
     },
     "output_type": "display_data"
    }
   ],
   "source": [
    "#how many eddms do you have to send out for the price to really go up?\n",
    "eddm_amounts = np.arange(0, 10001, 100)\n",
    "sales_based_on_eddms = []\n",
    "for eddm_amount in eddm_amounts:\n",
    "    sales_based_on_eddms.append(predict(eddm_amount, w, b))\n",
    "plt.plot(eddm_amounts, sales_based_on_eddms)\n",
    "plt.xlabel(\"EDDMS Spend ($)\")\n",
    "plt.ylabel(\"Predicted Sales ($)\")\n",
    "plt.title(\"Predicted Sales vs EDDMS Spend\")\n",
    "plt.grid(True)\n",
    "plt.show()"
   ]
  },
  {
   "cell_type": "code",
   "execution_count": 113,
   "id": "66a95bc6",
   "metadata": {},
   "outputs": [
    {
     "name": "stdout",
     "output_type": "stream",
     "text": [
      "61.33333333333333\n",
      "61.33333333333333\n"
     ]
    }
   ],
   "source": [
    "#Test with Scikit learn to see if the results are sane \n",
    "from sklearn.linear_model import LinearRegression\n",
    "model = LinearRegression()\n",
    "model.fit(X_train.reshape(-1,1), y)\n",
    "w_sklearn = model.coef_[0]\n",
    "b_sklean = model.intercept_\n",
    "y_pred_norm = model.predict(X_train.reshape(-1, 1))\n",
    "print(test_accuracy(X_train, y, w_sklearn, b_sklean))\n",
    "print(test_accuracy(X_train, y, w, b))"
   ]
  },
  {
   "cell_type": "code",
   "execution_count": 122,
   "id": "34280aca",
   "metadata": {},
   "outputs": [
    {
     "data": {
      "image/png": "[encoded data removed]",
      "text/plain": [
       "<Figure size 720x432 with 1 Axes>"
      ]
     },
     "metadata": {
      "needs_background": "light"
     },
     "output_type": "display_data"
    }
   ],
   "source": [
    "#range of eddm spend\n",
    "x_real = np.linspace(df['eddm_lagged'].min(), df['eddm_lagged'].max(), 50)\n",
    "x_norm = (x_real - X_mean) / X_std\n",
    "y_pred_norm = w * x_norm + b \n",
    "y_pred = (y_pred_norm * y_std) + y_mean\n",
    "plt.figure(figsize=(10,6))\n",
    "plt.scatter(df['eddm_lagged'], df['sales'], alpha =0.7, label = 'Actual sales ')\n",
    "plt.plot(x_real, y_pred, color = 'red', linewidth = 2, label = 'Regression Line')\n",
    "plt.xlabel(\"Eddm spend ($)\")\n",
    "plt.ylabel(\"Sales ($)\")\n",
    "plt.title(\"Linear Regression Fit on Actual Data\")\n",
    "plt.legend()\n",
    "plt.grid(True)"
   ]
  },
  {
   "cell_type": "code",
   "execution_count": null,
   "id": "d16d1f6d",
   "metadata": {},
   "outputs": [],
   "source": []
  }
 ],
 "metadata": {
  "kernelspec": {
   "display_name": "Python 3",
   "language": "python",
   "name": "python3"
  },
  "language_info": {
   "codemirror_mode": {
    "name": "ipython",
    "version": 3
   },
   "file_extension": ".py",
   "mimetype": "text/x-python",
   "name": "python",
   "nbconvert_exporter": "python",
   "pygments_lexer": "ipython3",
   "version": "3.8.8"
  }
 },
 "nbformat": 4,
 "nbformat_minor": 5
}
